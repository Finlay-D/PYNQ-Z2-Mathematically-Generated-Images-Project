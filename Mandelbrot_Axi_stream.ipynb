{
 "cells": [
  {
   "cell_type": "code",
   "execution_count": 1,
   "id": "a03c6c67",
   "metadata": {
    "scrolled": true
   },
   "outputs": [
    {
     "data": {
      "application/javascript": [
       "\n",
       "try {\n",
       "require(['notebook/js/codecell'], function(codecell) {\n",
       "  codecell.CodeCell.options_default.highlight_modes[\n",
       "      'magic_text/x-csrc'] = {'reg':[/^%%microblaze/]};\n",
       "  Jupyter.notebook.events.one('kernel_ready.Kernel', function(){\n",
       "      Jupyter.notebook.get_cells().map(function(cell){\n",
       "          if (cell.cell_type == 'code'){ cell.auto_highlight(); } }) ;\n",
       "  });\n",
       "});\n",
       "} catch (e) {};\n"
      ]
     },
     "metadata": {},
     "output_type": "display_data"
    },
    {
     "data": {
      "application/javascript": [
       "\n",
       "try {\n",
       "require(['notebook/js/codecell'], function(codecell) {\n",
       "  codecell.CodeCell.options_default.highlight_modes[\n",
       "      'magic_text/x-csrc'] = {'reg':[/^%%pybind11/]};\n",
       "  Jupyter.notebook.events.one('kernel_ready.Kernel', function(){\n",
       "      Jupyter.notebook.get_cells().map(function(cell){\n",
       "          if (cell.cell_type == 'code'){ cell.auto_highlight(); } }) ;\n",
       "  });\n",
       "});\n",
       "} catch (e) {};\n"
      ]
     },
     "metadata": {},
     "output_type": "display_data"
    }
   ],
   "source": [
    "import numpy as np\n",
    "from pynq import allocate\n",
    "from pynq import Overlay\n",
    "import numpy as np\n",
    "from numpy import zeros, linspace, fix\n",
    "from matplotlib.pyplot import figure, imshow, xlabel, ylabel, colorbar, show\n",
    "\n",
    "ol = Overlay(\"design_1_wrapper.bit\") # hwh is parsed here\n",
    "ol?\n",
    "\n",
    "def to_signed(val,b):\n",
    "    signedVal = val-(2**b)*int(str((val)>>b-1))\n",
    "    return signedVal"
   ]
  },
  {
   "cell_type": "code",
   "execution_count": 2,
   "id": "50bd0372",
   "metadata": {},
   "outputs": [],
   "source": [
    "dma = ol.axi_dma"
   ]
  },
  {
   "cell_type": "code",
   "execution_count": 3,
   "id": "2f6c3351",
   "metadata": {},
   "outputs": [],
   "source": [
    "dma_send = ol.axi_dma.sendchannel\n",
    "dma_recv = ol.axi_dma.recvchannel"
   ]
  },
  {
   "cell_type": "code",
   "execution_count": 4,
   "id": "ea79f981",
   "metadata": {},
   "outputs": [],
   "source": [
    "#https://gist.github.com/parvinderandroid/229438338aea45e7ae8d0929b02a9ff9\n",
    "def decToBin(number, base, precision):\n",
    "\tnumber = str(number)\n",
    "\tintegerPart = int( number[ : number.index(\".\") ] )\n",
    "\tfractionalPart = float( number[ number.index(\".\") : ] )\n",
    "\t\n",
    "\toutput = \"\"\n",
    "\t\n",
    "\twhile integerPart != 0:\n",
    "\t\toutput = str( integerPart % base ) + output\n",
    "\t\tintegerPart //= base\n",
    "\t\n",
    "\tif fractionalPart == 0:\n",
    "\t\treturn output\n",
    "\t\n",
    "\toutput += \".\"\n",
    "\t\n",
    "\twhile fractionalPart != 0 and precision != 0 :\n",
    "\t\tfractionalPart *= base\n",
    "\t\tfractionalPartString = str(fractionalPart)\n",
    "\t\toutput += fractionalPartString[ : fractionalPartString.index(\".\") ]\n",
    "\t\tfractionalPart = float( fractionalPartString[ fractionalPartString.index(\".\") : ] )\n",
    "\t\tprecision -= 1\n",
    "\t\n",
    "\treturn output"
   ]
  },
  {
   "cell_type": "code",
   "execution_count": 112,
   "id": "d205ca91",
   "metadata": {},
   "outputs": [],
   "source": [
    "def binaryString(num):\n",
    "    whole = fix(num)\n",
    "    fractional = num - whole\n",
    "    print(\"inside binary function!!!\")\n",
    "    \n",
    "    wholeBin = decToBin(whole, 2, 6)\n",
    "    wholeBin = wholeBin.zfill(6)\n",
    "    fractionalBin = decToBin(fractional, 2, 10)\n",
    "    fractionalBin = fractionalBin.ljust(11, '0')\n",
    "    print ()\n",
    "    \n",
    "    return np.uint64(wholeBin + fractionalBin[1:])"
   ]
  },
  {
   "cell_type": "code",
   "execution_count": 141,
   "id": "c01be7ac",
   "metadata": {},
   "outputs": [],
   "source": [
    "def mandelbrot(CRe, CIm, max_iter, resolution, row_index, result):\n",
    "    print(\"Inside second function!!!\")\n",
    "    #Instantiate all variables at start of function\n",
    "    iterCount = 0\n",
    "    NMA = 1\n",
    "    data_size = resolution[1]\n",
    "    pixels = [(0, 0, 0)]*data_size #Structured to store (ZRe, ZIm, mag) for each pixel\n",
    "    print(\"Components instantiated!!!\")\n",
    "    \n",
    "    #Clear space for input/output buffer\n",
    "    input_buffer = allocate(shape=(data_size,), dtype=np.uint64)\n",
    "    output_buffer = allocate(shape=(data_size,), dtype=np.uint64)\n",
    "    print(\"Buffers allocated!!!\")\n",
    "    \n",
    "    #Fill input buffer from real values each iteration, beginning with 0 Z values\n",
    "    for i in range(data_size):\n",
    "        print(\"inside the dodgy loop!!!\")\n",
    "        input_buffer[i] = int(str(binaryString(pixels[i][0]))\n",
    "                           + str(binaryString(pixels[i][1]))\n",
    "                           + str(binaryString(CRe[i]))\n",
    "                           + str(binaryString(CIm[i])), 2)\n",
    "        \n",
    "    print(\"input_buffer all sorted!!!\")\n",
    "    print(input_buffer)\n",
    "    for i in range(max_iter):\n",
    "        #Send and receive the row of pixels to and from the hardware\n",
    "        dma.sendchannel.transfer(input_buffer)\n",
    "        dma.recvchannel.transfer(output_buffer)\n",
    "        \n",
    "        #Format output_buffer into array of tuples in structure (ZRe, ZIm, mag)\n",
    "        for i in range(data_size):\n",
    "            pixelTuple = (output_buffer[i][16:31], output_buffer[i][32:47], output_buffer[i][48:63])\n",
    "            pixels[i] = pixelTuple\n",
    "\n",
    "        #Check any pixels escaped this iteration and update result if so\n",
    "        for j in range(data_size):\n",
    "            if pixels[j][2] >= 2: #condition to find if pixel magnitude has surpassed 2\n",
    "                n = j\n",
    "                \n",
    "                while result[row_index, n] != 0: #Keep moving through result pixels until one is free\n",
    "                    n += 1                       #This should work to maintain the bit positions in result\n",
    "                    \n",
    "                result[row_index, n] = iterCount\n",
    "                pixels.pop(j) #remove the pixel from the stream to send into the hardware\n",
    "                input_buffer.pop(j)\n",
    "                \n",
    "        iterCount+=1\n",
    "\n",
    "    #Sets all of the first row of result that hasn't been changed from 0, to max_iter after the final iteration\n",
    "    for i in range(data_size):\n",
    "        if result[row_index, i] == 0:\n",
    "            result[row_index, i] = max_iter\n",
    "\n",
    "    return result"
   ]
  },
  {
   "cell_type": "code",
   "execution_count": 142,
   "id": "ab0300a9",
   "metadata": {},
   "outputs": [],
   "source": [
    "def generate_mandelbrot(region, resolution, max_iter):\n",
    "    print(\"Inside first function!!!\")\n",
    "    rows, columns = resolution\n",
    "    CRe = [0]*rows\n",
    "    CIm = [0]*columns\n",
    "    result = zeros([rows, columns])\n",
    "    \n",
    "    #Splits the specified region into an x by y grid, storing coordinate values in CRe and CIm arrays\n",
    "    min_Re, max_Re, min_Im, max_Im = region\n",
    "    for row_index, Re in enumerate(linspace(min_Re, max_Re, num=rows)):\n",
    "        if Re < 0:\n",
    "            Re = (Re-(2*Re))\n",
    "        CRe[row_index] = Re\n",
    "        for column_index, Im in enumerate(linspace(min_Im, max_Im, num=columns)):\n",
    "            if Im < 0:\n",
    "                Im = (Im-(2*Im))\n",
    "            CIm[column_index] = Im\n",
    "            \n",
    "    for row_index in CRe:\n",
    "        result = mandelbrot(CRe, CIm, max_iter, resolution, row_index, result)\n",
    "            \n",
    "    return result"
   ]
  },
  {
   "cell_type": "code",
   "execution_count": 143,
   "id": "6abfd59a",
   "metadata": {},
   "outputs": [],
   "source": [
    "def plot_mandelbrot(result, region):\n",
    "    figure(dpi=250)\n",
    "    imshow(result.T, cmap='jet', interpolation='bilinear', extent=region)\n",
    "    xlabel('Re')\n",
    "    ylabel('Im')\n",
    "    colorbar()\n",
    "    show()"
   ]
  },
  {
   "cell_type": "code",
   "execution_count": 144,
   "id": "620108d8",
   "metadata": {},
   "outputs": [],
   "source": [
    "resolution = (10, 10)         #Number of pixels in image (detail of image)"
   ]
  },
  {
   "cell_type": "code",
   "execution_count": 145,
   "id": "d19e5351",
   "metadata": {},
   "outputs": [],
   "source": [
    "max_iter = 25                   #Number of iterations before pixel is classed 'stable'"
   ]
  },
  {
   "cell_type": "code",
   "execution_count": 146,
   "id": "3aa960a8",
   "metadata": {},
   "outputs": [],
   "source": [
    "region = (-2, 1, -1, 1)           #Entire region of mandelbrot diagram\n",
    "#region = (-0.77, -0.73, 0.1, 0.14)\n",
    "#region = (-0.75, -0.745, 0.1, 0.110)\n",
    "#region = (-0.747, -0.744, 0.107, 0.110)"
   ]
  },
  {
   "cell_type": "code",
   "execution_count": 147,
   "id": "ad25b5bb",
   "metadata": {},
   "outputs": [
    {
     "name": "stdout",
     "output_type": "stream",
     "text": [
      "Inside first function!!!\n",
      "Inside second function!!!\n",
      "Components instantiated!!!\n",
      "Buffers allocated!!!\n",
      "inside the dodgy loop!!!\n",
      "inside binary function!!!\n",
      "inside binary function!!!\n",
      "inside binary function!!!\n",
      "inside binary function!!!\n",
      "inside the dodgy loop!!!\n",
      "inside binary function!!!\n",
      "inside binary function!!!\n",
      "inside binary function!!!\n",
      "inside binary function!!!\n",
      "inside the dodgy loop!!!\n",
      "inside binary function!!!\n",
      "inside binary function!!!\n",
      "inside binary function!!!\n",
      "inside binary function!!!\n",
      "inside the dodgy loop!!!\n",
      "inside binary function!!!\n",
      "inside binary function!!!\n",
      "inside binary function!!!\n",
      "inside binary function!!!\n",
      "inside the dodgy loop!!!\n",
      "inside binary function!!!\n",
      "inside binary function!!!\n",
      "inside binary function!!!\n",
      "inside binary function!!!\n",
      "inside the dodgy loop!!!\n",
      "inside binary function!!!\n",
      "inside binary function!!!\n",
      "inside binary function!!!\n",
      "inside binary function!!!\n",
      "inside the dodgy loop!!!\n",
      "inside binary function!!!\n",
      "inside binary function!!!\n",
      "inside binary function!!!\n",
      "inside binary function!!!\n",
      "inside the dodgy loop!!!\n",
      "inside binary function!!!\n",
      "inside binary function!!!\n",
      "inside binary function!!!\n",
      "inside binary function!!!\n",
      "inside the dodgy loop!!!\n",
      "inside binary function!!!\n",
      "inside binary function!!!\n",
      "inside binary function!!!\n",
      "inside binary function!!!\n",
      "inside the dodgy loop!!!\n",
      "inside binary function!!!\n",
      "inside binary function!!!\n",
      "inside binary function!!!\n",
      "inside binary function!!!\n",
      "input_buffer all sorted!!!\n",
      "[4195328 1747740 1398328  524629   87409   43761     341  349752  699164\n",
      " 2098176]\n"
     ]
    },
    {
     "ename": "IndexError",
     "evalue": "invalid index to scalar variable.",
     "output_type": "error",
     "traceback": [
      "\u001b[0;31m---------------------------------------------------------------------------\u001b[0m",
      "\u001b[0;31mIndexError\u001b[0m                                Traceback (most recent call last)",
      "Input \u001b[0;32mIn [147]\u001b[0m, in \u001b[0;36m<cell line: 1>\u001b[0;34m()\u001b[0m\n\u001b[0;32m----> 1\u001b[0m result \u001b[38;5;241m=\u001b[39m \u001b[43mgenerate_mandelbrot\u001b[49m\u001b[43m(\u001b[49m\u001b[43mregion\u001b[49m\u001b[43m,\u001b[49m\u001b[43m \u001b[49m\u001b[43mresolution\u001b[49m\u001b[43m,\u001b[49m\u001b[43m \u001b[49m\u001b[43mmax_iter\u001b[49m\u001b[43m)\u001b[49m\n",
      "Input \u001b[0;32mIn [142]\u001b[0m, in \u001b[0;36mgenerate_mandelbrot\u001b[0;34m(region, resolution, max_iter)\u001b[0m\n\u001b[1;32m     17\u001b[0m         CIm[column_index] \u001b[38;5;241m=\u001b[39m Im\n\u001b[1;32m     19\u001b[0m \u001b[38;5;28;01mfor\u001b[39;00m row_index \u001b[38;5;129;01min\u001b[39;00m CRe:\n\u001b[0;32m---> 20\u001b[0m     result \u001b[38;5;241m=\u001b[39m \u001b[43mmandelbrot\u001b[49m\u001b[43m(\u001b[49m\u001b[43mCRe\u001b[49m\u001b[43m,\u001b[49m\u001b[43m \u001b[49m\u001b[43mCIm\u001b[49m\u001b[43m,\u001b[49m\u001b[43m \u001b[49m\u001b[43mmax_iter\u001b[49m\u001b[43m,\u001b[49m\u001b[43m \u001b[49m\u001b[43mresolution\u001b[49m\u001b[43m,\u001b[49m\u001b[43m \u001b[49m\u001b[43mrow_index\u001b[49m\u001b[43m,\u001b[49m\u001b[43m \u001b[49m\u001b[43mresult\u001b[49m\u001b[43m)\u001b[49m\n\u001b[1;32m     22\u001b[0m \u001b[38;5;28;01mreturn\u001b[39;00m result\n",
      "Input \u001b[0;32mIn [141]\u001b[0m, in \u001b[0;36mmandelbrot\u001b[0;34m(CRe, CIm, max_iter, resolution, row_index, result)\u001b[0m\n\u001b[1;32m     30\u001b[0m \u001b[38;5;66;03m#Format output_buffer into array of tuples in structure (ZRe, ZIm, mag)\u001b[39;00m\n\u001b[1;32m     31\u001b[0m \u001b[38;5;28;01mfor\u001b[39;00m i \u001b[38;5;129;01min\u001b[39;00m \u001b[38;5;28mrange\u001b[39m(data_size):\n\u001b[0;32m---> 32\u001b[0m     pixelTuple \u001b[38;5;241m=\u001b[39m (\u001b[43moutput_buffer\u001b[49m\u001b[43m[\u001b[49m\u001b[43mi\u001b[49m\u001b[43m]\u001b[49m\u001b[43m[\u001b[49m\u001b[38;5;241;43m16\u001b[39;49m\u001b[43m:\u001b[49m\u001b[38;5;241;43m31\u001b[39;49m\u001b[43m]\u001b[49m, output_buffer[i][\u001b[38;5;241m32\u001b[39m:\u001b[38;5;241m47\u001b[39m], output_buffer[i][\u001b[38;5;241m48\u001b[39m:\u001b[38;5;241m63\u001b[39m])\n\u001b[1;32m     33\u001b[0m     pixels[i] \u001b[38;5;241m=\u001b[39m pixelTuple\n\u001b[1;32m     35\u001b[0m \u001b[38;5;66;03m#Check any pixels escaped this iteration and update result if so\u001b[39;00m\n",
      "\u001b[0;31mIndexError\u001b[0m: invalid index to scalar variable."
     ]
    }
   ],
   "source": [
    "result = generate_mandelbrot(region, resolution, max_iter)"
   ]
  },
  {
   "cell_type": "code",
   "execution_count": null,
   "id": "ce47095d",
   "metadata": {},
   "outputs": [],
   "source": [
    "plot_mandelbrot(result, region)"
   ]
  }
 ],
 "metadata": {
  "kernelspec": {
   "display_name": "Python 3 (ipykernel)",
   "language": "python",
   "name": "python3"
  },
  "language_info": {
   "codemirror_mode": {
    "name": "ipython",
    "version": 3
   },
   "file_extension": ".py",
   "mimetype": "text/x-python",
   "name": "python",
   "nbconvert_exporter": "python",
   "pygments_lexer": "ipython3",
   "version": "3.10.4"
  }
 },
 "nbformat": 4,
 "nbformat_minor": 5
}
